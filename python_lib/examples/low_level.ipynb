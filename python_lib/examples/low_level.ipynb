{
 "cells": [
  {
   "cell_type": "markdown",
   "metadata": {},
   "source": [
    "# Low level interface\n",
    "\n",
    "## Basic usage\n",
    "\n",
    "First you need to create a connection"
   ]
  },
  {
   "cell_type": "code",
   "execution_count": 1,
   "metadata": {},
   "outputs": [],
   "source": [
    "import stoilo\n",
    "\n",
    "conn = await stoilo.connect('localhost:57010')"
   ]
  },
  {
   "cell_type": "markdown",
   "metadata": {},
   "source": [
    "A minimal working example of creating a task and getting a result"
   ]
  },
  {
   "cell_type": "code",
   "execution_count": 2,
   "metadata": {},
   "outputs": [
    {
     "data": {
      "text/plain": [
       "5"
      ]
     },
     "execution_count": 2,
     "metadata": {},
     "output_type": "execute_result"
    }
   ],
   "source": [
    "await conn.create_task(\n",
    "    kwargs={\"a\": 2, \"b\": 3},\n",
    "    func=lambda kwargs: kwargs[\"a\"] + kwargs[\"b\"],\n",
    ").result()"
   ]
  },
  {
   "cell_type": "markdown",
   "metadata": {},
   "source": [
    "In detail"
   ]
  },
  {
   "cell_type": "code",
   "execution_count": 3,
   "metadata": {},
   "outputs": [
    {
     "name": "stdout",
     "output_type": "stream",
     "text": [
      "True\n",
      "3dcaabd9f99a48c98037e133849a5732\n",
      "5\n"
     ]
    }
   ],
   "source": [
    "# synchronous non-blocking creation\n",
    "task = conn.create_task(\n",
    "    kwargs={\"a\": 2, \"b\": 3},\n",
    "    func=lambda kwargs: kwargs[\"a\"] + kwargs[\"b\"]\n",
    ")\n",
    "# task has not been submitted to the server yet\n",
    "print(task.task_id is None)  # True\n",
    "\n",
    "# asynchronous submission, will return fairly quickly\n",
    "task = await task.submit()\n",
    "# task has been submitted and the task_id has been assigned\n",
    "print(task.task_id)  # some uuid\n",
    "\n",
    "# asynchronous waiting for the result, takes some time to finish\n",
    "result = await task.result()\n",
    "print(result)  # 5"
   ]
  },
  {
   "cell_type": "markdown",
   "metadata": {},
   "source": [
    "## Data transfer\n",
    "\n",
    "The value returned by the function should be json-serializable. This is done for a combination of built-in Python types such as scalar types, str, list, tuple and dict. If you need to transfer more complex types, the serialization logic should be written by the user. **PLEASE PAY SPECIAL ATTENTION** that using `pickle`, `drill` or `cloudpickle` for the returned values is insecure, since arbitrary code can be executed during deserialization, thus opening up a vulnerability to attacks by volunteers on the server or users. Use such insecure serialization libraries **ONLY** in a trusted environment."
   ]
  },
  {
   "cell_type": "markdown",
   "metadata": {},
   "source": [
    "## Computational Replication and Validation settings\n",
    "\n",
    "You can configure validation functions and computational redundancy"
   ]
  },
  {
   "cell_type": "code",
   "execution_count": 4,
   "metadata": {},
   "outputs": [],
   "source": [
    "redundancy_options = stoilo.low_level.redundancy.CreateOptions(min_quorum=3, max_total_results=5)\n",
    "\n",
    "def quadratic_roots_harmonic_mean(kwargs):\n",
    "    import math\n",
    "    a, b, c = kwargs[\"a\"], kwargs[\"b\"], kwargs[\"c\"]\n",
    "    discriminant = b ** 2 - 4 * a * c\n",
    "    if discriminant < 0:\n",
    "        return None\n",
    "    sqrt_discriminant = math.sqrt(discriminant)\n",
    "    denom = 2 * a\n",
    "    x1 = (-b + sqrt_discriminant) / denom\n",
    "    x2 = (-b - sqrt_discriminant) / denom\n",
    "    harmonic_mean = 2 / (1 / x1 + 1 / x2)\n",
    "    return harmonic_mean\n",
    "\n",
    "task = conn.create_task(\n",
    "    kwargs={\"a\": 1, \"b\": -3, \"c\": 2},\n",
    "    func=quadratic_roots_harmonic_mean,\n",
    "    init_valid_func=lambda res: res is None or isinstance(res, float),\n",
    "    compare_valid_func=lambda x, y: (\n",
    "        x is None and y is None\n",
    "        or x is not None and y is not None and abs(x - y) < 1e-6\n",
    "    ),\n",
    "    redundancy_options=redundancy_options,\n",
    ")\n",
    "\n",
    "task = await task.submit()"
   ]
  },
  {
   "cell_type": "markdown",
   "metadata": {},
   "source": [
    "As a user, you do not have to be available all the time, so you can reliably save serialized `SubmittedTask` object and close the Python notebook"
   ]
  },
  {
   "cell_type": "code",
   "execution_count": 5,
   "metadata": {},
   "outputs": [
    {
     "name": "stdout",
     "output_type": "stream",
     "text": [
      "e9a655b80bd048d6b44ff1734db39303\n"
     ]
    }
   ],
   "source": [
    "print(task.task_id)\n",
    "\n",
    "with open(\"task_id.txt\", \"w\") as f:\n",
    "    f.write(task.task_id)"
   ]
  },
  {
   "cell_type": "markdown",
   "metadata": {},
   "source": [
    "And after returning to the work and resturting the notebook"
   ]
  },
  {
   "cell_type": "code",
   "execution_count": 6,
   "metadata": {},
   "outputs": [
    {
     "name": "stdout",
     "output_type": "stream",
     "text": [
      "e9a655b80bd048d6b44ff1734db39303\n"
     ]
    },
    {
     "data": {
      "text/plain": [
       "1.3333333333333333"
      ]
     },
     "execution_count": 6,
     "metadata": {},
     "output_type": "execute_result"
    }
   ],
   "source": [
    "with open(\"task_id.txt\", \"r\") as f:\n",
    "    task_id = f.read()\n",
    "\n",
    "task = conn.restore_task(task_id)\n",
    "print(task.task_id)\n",
    "\n",
    "await task.result()"
   ]
  },
  {
   "cell_type": "markdown",
   "metadata": {},
   "source": [
    "## Parallel task execution\n",
    "\n",
    "Thanks to the asynchronous interface for waiting for results, you can create many subtasks and wait for them all to complete."
   ]
  },
  {
   "cell_type": "code",
   "execution_count": 7,
   "metadata": {},
   "outputs": [
    {
     "name": "stdout",
     "output_type": "stream",
     "text": [
      "∫₀^π x sin(x) dx ≈ 3.1416  (actual value is π)\n"
     ]
    }
   ],
   "source": [
    "import asyncio\n",
    "import math\n",
    "from typing import Callable\n",
    "\n",
    "async def integrate_trapezoid_distributed(conn, f: Callable[[float], float], a: float, b: float) -> float:\n",
    "    def worker(kwargs):\n",
    "        x_0, x_n, n, f = kwargs[\"a\"], kwargs[\"b\"], kwargs[\"n\"], kwargs[\"f\"]\n",
    "        h = (x_n - x_0) / n\n",
    "        total = 0.5 * (f(x_0) + f(x_n))\n",
    "        for j in range(1, n):\n",
    "            xj = x_0 + j * h\n",
    "            total += f(xj)\n",
    "        return total * h\n",
    "    \n",
    "    n_tasks = 10\n",
    "    n_step_in_task = 1000\n",
    "\n",
    "    subseg_size = (b - a) / n_tasks\n",
    "    tasks = []\n",
    "    for i in range(n_tasks):\n",
    "        sub_a = a + i * subseg_size\n",
    "        sub_b = sub_a + subseg_size\n",
    "        task = conn.create_task(\n",
    "            kwargs={\"a\": sub_a, \"b\": sub_b, \"n\": n_step_in_task, \"f\": f},\n",
    "            func=worker,\n",
    "            redundancy_options=stoilo.low_level.redundancy.TRIVIAL_OPTIONS,\n",
    "        )\n",
    "        tasks.append(task)\n",
    "\n",
    "    partial_integrals = await asyncio.gather(*(t.result() for t in tasks))\n",
    "    return sum(partial_integrals)\n",
    "\n",
    "\n",
    "integral = await integrate_trapezoid_distributed(conn, lambda x: x * math.sin(x), 0, math.pi)\n",
    "print(f\"∫₀^π x sin(x) dx ≈ {integral:.4f}  (actual value is π)\")"
   ]
  },
  {
   "cell_type": "markdown",
   "metadata": {},
   "source": [
    "## Error handling\n",
    "\n",
    "If an exception occurs in the user's function, an object of type `stoilo.low_level.UserError` containing this exception will be returned. In case of any other errors or inability to complete the task with the specified replication options, an object of type `stoilo.low_level.SystemError` will be returned.\n",
    "\n",
    "The Initial validator always accepts `UserError` and rejects `SystemError`. The comparative validator considers the returned values to be from the same equivalence class if either they are both `UserError`, or both are not `UserError` and `compare_valid_func` returned True. The fact is that validators are responsible for verifying the correctness of calculations, and throwing an exception in user code can be a true result of execution.\n",
    "\n",
    "In total, the type of the returned value is `stoilo.low_level.TaskResult = Union[Any, UserError, SystemError]`."
   ]
  },
  {
   "cell_type": "code",
   "execution_count": 8,
   "metadata": {},
   "outputs": [
    {
     "name": "stdout",
     "output_type": "stream",
     "text": [
      "Task 0 returned <class 'stoilo.low_level.task_result.UserError'>: Stoilo user error: Exception is thrown in user function: division by zero\n",
      "Task 1 returned <class 'stoilo.low_level.task_result.SystemError'>: Stoilo system error: BOINC error code: 8, see WU_ERROR_* in html/inc/common_defs.inc\n",
      "Task 2 returned <class 'stoilo.low_level.task_result.SystemError'>: Stoilo system error: BOINC error code: 8, see WU_ERROR_* in html/inc/common_defs.inc\n"
     ]
    }
   ],
   "source": [
    "falling_tasks = []\n",
    "\n",
    "falling_tasks.append(conn.create_task(\n",
    "    kwargs={\"a\": 1, \"b\": 0},\n",
    "    func=lambda kwargs: kwargs[\"a\"] / kwargs[\"b\"],  # division by zero\n",
    "))\n",
    "\n",
    "falling_tasks.append(conn.create_task(\n",
    "    kwargs={\"a\": 1, \"b\": 2},\n",
    "    func=lambda kwargs: kwargs[\"a\"] / kwargs[\"b\"],\n",
    "    init_valid_func=lambda _: 1 / 0,  # failing validator\n",
    "))\n",
    "\n",
    "falling_tasks.append(conn.create_task(\n",
    "    kwargs={\"a\": 1, \"b\": 2},\n",
    "    func=lambda kwargs: kwargs[\"a\"] / kwargs[\"b\"],\n",
    "    init_valid_func=lambda _: False,  # reject all the results\n",
    "))\n",
    "\n",
    "results = await asyncio.gather(*(t.result() for t in falling_tasks))\n",
    "\n",
    "for i, res in enumerate(results):\n",
    "    print(f\"Task {i} returned {type(res)}: {res}\")"
   ]
  },
  {
   "cell_type": "markdown",
   "metadata": {},
   "source": [
    "## Flavors\n",
    "\n",
    "The volunteer nodes run workers called _raboshkas_ that perform the user's Python tasks. The raboshka contains a Python interpreter and some pip dependencies, which makes its own dependencies and requirements for a volunteer minimal. The specific list of pip dependencies and modules installed in the raboshka is called flavor. All raboshka_flavor are created by administrators of the deployed system, and are identified by a hash of `dependencies.yaml`.\n",
    "\n",
    "Below is an example of `dependencies.yml` with the hash `44814764c91bf9ef426c4aa899df974f`\n",
    "```yaml\n",
    "requirements:\n",
    "  - cloudpickle==3.1.1\n",
    "  - numpy==2.2.5\n",
    "  - torch==2.7.0\n",
    "  - torchvision==0.22.0\n",
    "modules:\n",
    "  - cloudpickle\n",
    "  - numpy\n",
    "  - torch\n",
    "  - torchvision\n",
    "\n",
    "```\n",
    "As you know, in general, the names of pip libraries and top level modules which they export may not match.\n",
    "\n",
    "Thanks to flavor's mechanism, you can create tasks using Python libraries."
   ]
  },
  {
   "cell_type": "code",
   "execution_count": 9,
   "metadata": {},
   "outputs": [
    {
     "data": {
      "text/plain": [
       "[-0.3589743589743591, 0.5897435897435899, 0.7435897435897437]"
      ]
     },
     "execution_count": 9,
     "metadata": {},
     "output_type": "execute_result"
    }
   ],
   "source": [
    "import numpy as np\n",
    "\n",
    "A = np.array([[ 3,  1,  2],\n",
    "              [ 1,  4,  0],\n",
    "              [ 2,  0,  5]], dtype=float)\n",
    "b = np.array([1, 2, 3], dtype=float)\n",
    "\n",
    "def solve_linear_system(kwargs):\n",
    "    import numpy as np_\n",
    "    x = np_.linalg.solve(kwargs[\"A\"], kwargs[\"b\"])\n",
    "    return x.tolist()\n",
    "\n",
    "task = conn.create_task(\n",
    "    kwargs={\"A\": A, \"b\": b},\n",
    "    func=solve_linear_system,\n",
    "    flavor='44814764c91bf9ef426c4aa899df974f',\n",
    "    init_valid_func=lambda x: isinstance(x, list) and len(x) == 3 and all(isinstance(elem, float) for elem in x),\n",
    "    compare_valid_func=lambda x, y: all(abs(elem_x - elem_y) < 1e-6 for elem_x, elem_y in zip(x, y)),\n",
    ")\n",
    "\n",
    "await task.result()"
   ]
  }
 ],
 "metadata": {
  "kernelspec": {
   "display_name": ".venv",
   "language": "python",
   "name": "python3"
  },
  "language_info": {
   "codemirror_mode": {
    "name": "ipython",
    "version": 3
   },
   "file_extension": ".py",
   "mimetype": "text/x-python",
   "name": "python",
   "nbconvert_exporter": "python",
   "pygments_lexer": "ipython3",
   "version": "3.12.3"
  }
 },
 "nbformat": 4,
 "nbformat_minor": 2
}
